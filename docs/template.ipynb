{
 "cells": [
  {
   "cell_type": "markdown",
   "metadata": {},
   "source": [
    "# Interpolation Based Visualization of Solutions."
   ]
  },
  {
   "cell_type": "markdown",
   "metadata": {},
   "source": [
    "### Summary\n",
    "This notebook describes the use of interpolation in the visualization of analytical or discrete known solutions. To visualize a given solution the problem domain is discretizd into finite elements. The discretization is represented in terms of text files with the corresponding nodal and elemental data. In a second step the solution is evaluated at the nodal points and the code uses interpolation based algorithms to extend the solution to a larger number of points. In the final step the solution is visualized using Python embedded contour plotting functions."
   ]
  },
  {
   "cell_type": "markdown",
   "metadata": {},
   "source": [
    "### Solution\n",
    "Assume we want to visualize the following scalar function:\n",
    "\n",
    "$$u = {x^2} + {y^2}$$\n",
    "\n",
    "in a rectangular domain of dimensions $l \\times h$ using 4-noded bi-lineal elements of characteristic size $c = 0.05.$"
   ]
  },
  {
   "cell_type": "markdown",
   "metadata": {},
   "source": [
    "## Solution algorithm\n",
    "In order to visualize the solution the rectangular domain must be discretized into finite elements resulting in arrays nodes() and elements() storing the nodal and the elemental data respectively. If the domain is simple this discretization can be performed with the free code Gmsh. For that purpose the .geo file containing the geometry must be coded inside the module generategeo(). In this example the creation of the .geo file is conducted by the function mygeom() available inside generategeo(). After this function is executed the code invokes the function create_mesh() which runs Gmesh in the background, creates a .msh file and writes down the mesh into text files nodes.txt and elements.txt. This mesh is then used to evaluate the solution at the nodal points and create the solution array SOL[] which is latter passed as input parameter, together with the mesh data, to the required plotting subroutine available in the module plotter(). In the current example we use the function plot_SFIELD since we are to visualize a scalar field."
   ]
  },
  {
   "cell_type": "markdown",
   "metadata": {},
   "source": [
    "## Computational aspects\n",
    "First import the requireed modules. In this case elasticity() stores the coded solutions; generatego() stores the .go files for particular geometries and plotter() stores different scalar, vector and tensor plotting subroutines."
   ]
  },
  {
   "cell_type": "code",
   "execution_count": null,
   "metadata": {},
   "outputs": [],
   "source": [
    "%matplotlib notebook\n",
    "from __future__ import division\n",
    "import numpy as np\n",
    "from os import sys\n",
    "sys.path.append('../CALCULATOR/')\n",
    "import elasticity as ela\n",
    "import generategeo as geo\n",
    "import plotter as plo\n",
    "from IPython.display import Image"
   ]
  },
  {
   "cell_type": "markdown",
   "metadata": {},
   "source": [
    "(i)In the next step we create the model. This requires the defintion of the domain parameters $l$, $h$, element type and intrpolation order."
   ]
  },
  {
   "cell_type": "code",
   "execution_count": null,
   "metadata": {
    "collapsed": true
   },
   "outputs": [],
   "source": [
    "l = 1.0\n",
    "h = 1.0\n",
    "c = 0.05\n",
    "ietype = 3\n",
    "order = 1\n"
   ]
  },
  {
   "cell_type": "markdown",
   "metadata": {},
   "source": [
    "The domain and discretization parameters are now used to ceate the geometry and corresponding mesh, which is written to text files nodes.txt and elements.txt"
   ]
  },
  {
   "cell_type": "code",
   "execution_count": null,
   "metadata": {
    "collapsed": true
   },
   "outputs": [],
   "source": [
    "var = geo.mygeom(l, h, c , ietype)\n",
    "geo.create_mesh(order , var )\n",
    "nodes , elements , nn = geo.writefiles(ietype , var)\n",
    "plo.viewmesh(nodes, elements, True)"
   ]
  },
  {
   "cell_type": "markdown",
   "metadata": {},
   "source": [
    "With the number of nodes of the discretization (nn) we create the coordinates array coords[] and the solution array SOL[]:"
   ]
  },
  {
   "cell_type": "code",
   "execution_count": null,
   "metadata": {
    "collapsed": true
   },
   "outputs": [],
   "source": [
    "coords=np.zeros([nn,2])\n",
    "SOL = np.zeros([nn]) \n",
    "coords[:,0]=nodes[:,1]\n",
    "coords[:,1]=nodes[:,2]"
   ]
  },
  {
   "cell_type": "markdown",
   "metadata": {},
   "source": [
    "We now loop trhough the nn nodal points, retrieve the coordinates from each point and evaluate the solution. In this case the function $u = {x^2} + {y^2}$ has been coded and stored with the name myfunction() inside the module elasticity(). Once the solutio is evaluated we store it in the solution aray SOL[]:"
   ]
  },
  {
   "cell_type": "code",
   "execution_count": null,
   "metadata": {
    "collapsed": true
   },
   "outputs": [],
   "source": [
    "par1 = 1.0\n",
    "for i in range(0,nn):\n",
    "    x = coords[i,0]\n",
    "    y = coords[i,1]\n",
    "    uu =ela.myfunction(x,y,par1)\n",
    "    SOL[i] = uu"
   ]
  },
  {
   "cell_type": "markdown",
   "metadata": {},
   "source": [
    "In the final step and once the solution has been evaluated and stored over the complete set of mesh points we use the appropriate function of the plotting module plotter.py to produce the visualization:"
   ]
  },
  {
   "cell_type": "code",
   "execution_count": null,
   "metadata": {
    "collapsed": true
   },
   "outputs": [],
   "source": [
    "plo.plot_SFIELD(SOL, nodes , elements, 1 , plt_type =\"contourf\", levels = 12 )"
   ]
  },
  {
   "cell_type": "code",
   "execution_count": null,
   "metadata": {},
   "outputs": [],
   "source": [
    "from IPython.core.display import HTML\n",
    "def css_styling():\n",
    "    styles = open('/styles/custom_barba.css', 'r').read()\n",
    "    return HTML(styles)\n",
    "css_styling()"
   ]
  },
  {
   "cell_type": "code",
   "execution_count": null,
   "metadata": {
    "collapsed": true
   },
   "outputs": [],
   "source": []
  }
 ],
 "metadata": {
  "anaconda-cloud": {},
  "kernelspec": {
   "display_name": "Python [default]",
   "language": "python",
   "name": "python2"
  },
  "language_info": {
   "codemirror_mode": {
    "name": "ipython",
    "version": 2
   },
   "file_extension": ".py",
   "mimetype": "text/x-python",
   "name": "python",
   "nbconvert_exporter": "python",
   "pygments_lexer": "ipython2",
   "version": "2.7.13"
  }
 },
 "nbformat": 4,
 "nbformat_minor": 2
}
